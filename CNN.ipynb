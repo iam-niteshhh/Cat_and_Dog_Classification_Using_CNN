{
 "cells": [
  {
   "cell_type": "code",
   "execution_count": 1,
   "id": "f83b93ff",
   "metadata": {},
   "outputs": [
    {
     "name": "stdout",
     "output_type": "stream",
     "text": [
      "E:\\Projets\\Dog and cat\n"
     ]
    }
   ],
   "source": [
    "!cd"
   ]
  },
  {
   "cell_type": "code",
   "execution_count": 2,
   "id": "8212a1cf",
   "metadata": {},
   "outputs": [
    {
     "name": "stdout",
     "output_type": "stream",
     "text": [
      "dogs-vs-cats.zip: Skipping, found more recently modified local copy (use --force to force download)\n"
     ]
    }
   ],
   "source": [
    "!kaggle competitions download -c dogs-vs-cats -p Data/"
   ]
  },
  {
   "cell_type": "code",
   "execution_count": 3,
   "id": "ed723296",
   "metadata": {},
   "outputs": [],
   "source": [
    "import os\n",
    "import zipfile\n",
    "import matplotlib.image as image\n",
    "from io import BytesIO\n",
    "import matplotlib.pyplot as plt\n",
    "from PIL import Image\n",
    "import numpy as np\n",
    "from keras.utils import to_categorical\n",
    "from keras.layers import Conv2D,MaxPooling2D,Activation,Dense,Flatten,Dropout\n",
    "from keras.models import Sequential\n",
    "from keras.initializers import RandomNormal,RandomUniform\n",
    "from keras.optimizers import Adam,RMSprop\n",
    "from sklearn.model_selection import train_test_split"
   ]
  },
  {
   "cell_type": "code",
   "execution_count": 4,
   "id": "aa8ad73b",
   "metadata": {},
   "outputs": [
    {
     "name": "stdout",
     "output_type": "stream",
     "text": [
      "Extracting files ....\n",
      "1\n",
      "An error occured\n",
      "1\n",
      "1\n",
      "Extraction completed ....\n",
      "Extracted file location (data/).... \n"
     ]
    }
   ],
   "source": [
    "print('Extracting files ....')\n",
    "with zipfile.ZipFile('Data/dogs-vs-cats.zip') as zfiles:\n",
    "    for file in zfiles.namelist():\n",
    "        try:\n",
    "            zfiledata = BytesIO(zfiles.read(file))\n",
    "            efile = zipfile.ZipFile(zfiledata)\n",
    "            efile.extractall('data/')\n",
    "        except:\n",
    "            print('An error occured')\n",
    "print('Extraction completed ....')\n",
    "print('Extracted file location (data/).... ')"
   ]
  },
  {
   "cell_type": "code",
   "execution_count": 4,
   "id": "177535e9",
   "metadata": {},
   "outputs": [],
   "source": [
    "train_data_path = 'Data/train/'\n",
    "test_data_path = 'Data/test1/'"
   ]
  },
  {
   "cell_type": "code",
   "execution_count": 5,
   "id": "227a7191",
   "metadata": {},
   "outputs": [],
   "source": [
    "def get_data_ready(path):\n",
    "    print('Loading Files .... ')\n",
    "    print('Please Wait ....')\n",
    "    label, ids, data = [],[],[]\n",
    "    for files in os.walk(path):\n",
    "        for file in files[2]:\n",
    "            filename, extension = os.path.splitext(file)\n",
    "            if extension == '.jpg':\n",
    "                load_path = path+file\n",
    "                img = Image.open(load_path)\n",
    "                img = img.resize((100,100),resample=Image.NEAREST)\n",
    "                data.append(np.asarray(img))\n",
    "                try:          \n",
    "                    ids.append(filename.split('.')[1])\n",
    "                    if filename.split('.')[0] == 'cat':\n",
    "                        label.append(1)\n",
    "                    else:\n",
    "                        label.append(0)\n",
    "                except:\n",
    "                    ids.append(filename.split('.'))\n",
    "            else:\n",
    "                print('Not a .jpg file  the actual extension is {}'.format(extension))\n",
    "                \n",
    "    data = np.asarray(data)\n",
    "    label = np.asarray(label)\n",
    "    print('Files Loading Complete ....')\n",
    "    return label,ids,data"
   ]
  },
  {
   "cell_type": "code",
   "execution_count": 6,
   "id": "3df0f304",
   "metadata": {},
   "outputs": [
    {
     "name": "stdout",
     "output_type": "stream",
     "text": [
      "Loading Files .... \n",
      "Please Wait ....\n",
      "Files Loading Complete ....\n"
     ]
    }
   ],
   "source": [
    "train_labels,train_ids,train_data = get_data_ready(train_data_path)"
   ]
  },
  {
   "cell_type": "code",
   "execution_count": 7,
   "id": "c9b73792",
   "metadata": {},
   "outputs": [
    {
     "name": "stdout",
     "output_type": "stream",
     "text": [
      "Loading Files .... \n",
      "Please Wait ....\n",
      "Files Loading Complete ....\n"
     ]
    }
   ],
   "source": [
    "test_labels,test_ids,test_data = get_data_ready(test_data_path)"
   ]
  },
  {
   "cell_type": "code",
   "execution_count": 8,
   "id": "70065f08",
   "metadata": {},
   "outputs": [],
   "source": [
    "train_data = train_data.astype('float32')\n",
    "test_data = test_data.astype('float32')\n",
    "train_data = train_data/255\n",
    "test_data = test_data/255"
   ]
  },
  {
   "cell_type": "code",
   "execution_count": 9,
   "id": "d41cb672",
   "metadata": {},
   "outputs": [
    {
     "data": {
      "text/plain": [
       "((25000, 100, 100, 3), (12500, 100, 100, 3))"
      ]
     },
     "execution_count": 9,
     "metadata": {},
     "output_type": "execute_result"
    }
   ],
   "source": [
    "train_data.shape , test_data.shape"
   ]
  },
  {
   "cell_type": "code",
   "execution_count": 10,
   "id": "9f848212",
   "metadata": {},
   "outputs": [
    {
     "name": "stdout",
     "output_type": "stream",
     "text": [
      "Model: \"sequential\"\n",
      "_________________________________________________________________\n",
      "Layer (type)                 Output Shape              Param #   \n",
      "=================================================================\n",
      "conv2d (Conv2D)              (None, 50, 50, 32)        896       \n",
      "_________________________________________________________________\n",
      "max_pooling2d (MaxPooling2D) (None, 47, 47, 32)        0         \n",
      "_________________________________________________________________\n",
      "dropout (Dropout)            (None, 47, 47, 32)        0         \n",
      "_________________________________________________________________\n",
      "conv2d_1 (Conv2D)            (None, 45, 45, 64)        18496     \n",
      "_________________________________________________________________\n",
      "max_pooling2d_1 (MaxPooling2 (None, 42, 42, 64)        0         \n",
      "_________________________________________________________________\n",
      "conv2d_2 (Conv2D)            (None, 21, 21, 64)        36928     \n",
      "_________________________________________________________________\n",
      "max_pooling2d_2 (MaxPooling2 (None, 18, 18, 64)        0         \n",
      "_________________________________________________________________\n",
      "dropout_1 (Dropout)          (None, 18, 18, 64)        0         \n",
      "_________________________________________________________________\n",
      "conv2d_3 (Conv2D)            (None, 16, 16, 64)        36928     \n",
      "_________________________________________________________________\n",
      "max_pooling2d_3 (MaxPooling2 (None, 13, 13, 64)        0         \n",
      "_________________________________________________________________\n",
      "conv2d_4 (Conv2D)            (None, 7, 7, 128)         73856     \n",
      "_________________________________________________________________\n",
      "dropout_2 (Dropout)          (None, 7, 7, 128)         0         \n",
      "_________________________________________________________________\n",
      "flatten (Flatten)            (None, 6272)              0         \n",
      "_________________________________________________________________\n",
      "dense (Dense)                (None, 64)                401472    \n",
      "_________________________________________________________________\n",
      "dense_1 (Dense)              (None, 128)               8320      \n",
      "_________________________________________________________________\n",
      "dense_2 (Dense)              (None, 256)               33024     \n",
      "_________________________________________________________________\n",
      "dense_3 (Dense)              (None, 1)                 257       \n",
      "=================================================================\n",
      "Total params: 610,177\n",
      "Trainable params: 610,177\n",
      "Non-trainable params: 0\n",
      "_________________________________________________________________\n"
     ]
    }
   ],
   "source": [
    "model1 = Sequential()\n",
    "\n",
    "model1.add(Conv2D(filters = 32 ,\n",
    "                  kernel_size = (3,3),\n",
    "                  strides = (2,2),\n",
    "                  padding = 'same',\n",
    "                  activation='relu',\n",
    "                  input_shape = train_data.shape[1:]))\n",
    "\n",
    "model1.add(MaxPooling2D(pool_size=(4, 4),\n",
    "                        strides=(1, 1),\n",
    "                        padding='valid'))\n",
    "\n",
    "model1.add(Dropout(0.25))\n",
    "\n",
    "model1.add(Conv2D(filters = 64 ,\n",
    "                  kernel_size = (3,3),\n",
    "                  strides = (1,1),\n",
    "                  padding = 'valid',\n",
    "                  activation='relu'))\n",
    "\n",
    "model1.add(MaxPooling2D(pool_size=(4, 4),\n",
    "                        strides=(1, 1), \n",
    "                        padding='valid'))\n",
    "\n",
    "model1.add(Conv2D(filters = 64 ,\n",
    "                  kernel_size = (3,3),\n",
    "                  strides = (2,2),\n",
    "                  padding = 'same',\n",
    "                  activation='relu'))\n",
    "model1.add(MaxPooling2D(pool_size=(4, 4),\n",
    "                        strides=(1, 1),\n",
    "                        padding='valid'))\n",
    "\n",
    "model1.add(Dropout(0.25))\n",
    "model1.add(Conv2D(filters = 64 ,\n",
    "                  kernel_size = (3,3),\n",
    "                  strides = (1,1),\n",
    "                  padding = 'valid',\n",
    "                  activation='relu'))\n",
    "\n",
    "model1.add(MaxPooling2D(pool_size=(4, 4),\n",
    "                        strides=(1, 1),\n",
    "                        padding='valid'))\n",
    "\n",
    "\n",
    "model1.add(Conv2D(filters = 128 ,\n",
    "                  kernel_size = (3,3),\n",
    "                  strides = (2,2),\n",
    "                  padding = 'same',\n",
    "                  activation='relu'))\n",
    "\n",
    "model1.add(Dropout(0.25))\n",
    "\n",
    "model1.add(Flatten())\n",
    "model1.add(Dense(units=64,activation = 'relu'))\n",
    "model1.add(Dense(units=128,activation = 'relu'))\n",
    "model1.add(Dense(units=256,activation = 'relu'))\n",
    "model1.add(Dense(units=1,activation = 'sigmoid'))\n",
    "\n",
    "\n",
    "model1.summary()"
   ]
  },
  {
   "cell_type": "code",
   "execution_count": 11,
   "id": "96756913",
   "metadata": {},
   "outputs": [],
   "source": [
    "opt = RMSprop(learning_rate= 0.1)\n",
    "model1.compile(optimizer=opt,\n",
    "               loss = 'binary_crossentropy',\n",
    "               metrics = 'accuracy')"
   ]
  },
  {
   "cell_type": "code",
   "execution_count": 12,
   "id": "6a57a99f",
   "metadata": {},
   "outputs": [],
   "source": [
    "x_train,x_valid,y_train,y_valid = train_test_split(train_data,train_labels,\n",
    "                                                   random_state=42,                            \n",
    "                                                   test_size=0.2)"
   ]
  },
  {
   "cell_type": "code",
   "execution_count": 13,
   "id": "cb30ef9b",
   "metadata": {},
   "outputs": [
    {
     "name": "stdout",
     "output_type": "stream",
     "text": [
      "Epoch 1/10\n",
      "625/625 [==============================] - 207s 331ms/step - loss: 199237520.0000 - accuracy: 0.5003 - val_loss: 0.6976 - val_accuracy: 0.4970\n",
      "Epoch 2/10\n",
      "625/625 [==============================] - 195s 311ms/step - loss: 310933.0000 - accuracy: 0.5039 - val_loss: 0.7046 - val_accuracy: 0.5030\n",
      "Epoch 3/10\n",
      "625/625 [==============================] - 192s 308ms/step - loss: 0.6963 - accuracy: 0.4985 - val_loss: 0.6933 - val_accuracy: 0.4970\n",
      "Epoch 4/10\n",
      "625/625 [==============================] - 192s 307ms/step - loss: 0.6953 - accuracy: 0.5021 - val_loss: 0.7011 - val_accuracy: 0.5030\n",
      "Epoch 5/10\n",
      "625/625 [==============================] - 194s 310ms/step - loss: 0.6956 - accuracy: 0.4931 - val_loss: 0.6941 - val_accuracy: 0.4970\n",
      "Epoch 6/10\n",
      "625/625 [==============================] - 196s 314ms/step - loss: 0.6955 - accuracy: 0.5009 - val_loss: 0.6954 - val_accuracy: 0.4970\n",
      "Epoch 7/10\n",
      "625/625 [==============================] - 219s 350ms/step - loss: 0.6956 - accuracy: 0.4983 - val_loss: 0.6933 - val_accuracy: 0.4970\n",
      "Epoch 8/10\n",
      "625/625 [==============================] - 202s 323ms/step - loss: 0.6956 - accuracy: 0.4985 - val_loss: 0.6965 - val_accuracy: 0.5030\n",
      "Epoch 9/10\n",
      "625/625 [==============================] - 212s 338ms/step - loss: 0.6957 - accuracy: 0.4965 - val_loss: 0.6932 - val_accuracy: 0.5030\n",
      "Epoch 10/10\n",
      "625/625 [==============================] - 205s 329ms/step - loss: 0.6953 - accuracy: 0.4945 - val_loss: 0.6931 - val_accuracy: 0.5030\n"
     ]
    }
   ],
   "source": [
    "model1_summary = model1.fit(x_train,y_train,\n",
    "                            batch_size=32,\n",
    "                            shuffle=True,\n",
    "                            epochs = 10,\n",
    "                            validation_data=(x_valid,y_valid))"
   ]
  },
  {
   "cell_type": "code",
   "execution_count": 14,
   "id": "079e4f95",
   "metadata": {},
   "outputs": [
    {
     "data": {
      "text/plain": [
       "numpy.ndarray"
      ]
     },
     "execution_count": 14,
     "metadata": {},
     "output_type": "execute_result"
    }
   ],
   "source": [
    "type(y_train)"
   ]
  },
  {
   "cell_type": "code",
   "execution_count": null,
   "id": "4577f3f3",
   "metadata": {},
   "outputs": [],
   "source": []
  }
 ],
 "metadata": {
  "kernelspec": {
   "display_name": "Python [conda env:.conda-deeplearning]",
   "language": "python",
   "name": "conda-env-.conda-deeplearning-py"
  },
  "language_info": {
   "codemirror_mode": {
    "name": "ipython",
    "version": 3
   },
   "file_extension": ".py",
   "mimetype": "text/x-python",
   "name": "python",
   "nbconvert_exporter": "python",
   "pygments_lexer": "ipython3",
   "version": "3.8.11"
  }
 },
 "nbformat": 4,
 "nbformat_minor": 5
}

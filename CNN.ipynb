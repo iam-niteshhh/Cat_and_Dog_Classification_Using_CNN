{
 "cells": [
  {
   "cell_type": "code",
   "execution_count": 1,
   "id": "f83b93ff",
   "metadata": {},
   "outputs": [
    {
     "name": "stdout",
     "output_type": "stream",
     "text": [
      "E:\\Projets\\Dog and cat\n"
     ]
    }
   ],
   "source": [
    "!cd"
   ]
  },
  {
   "cell_type": "code",
   "execution_count": 1,
   "id": "8212a1cf",
   "metadata": {},
   "outputs": [
    {
     "name": "stdout",
     "output_type": "stream",
     "text": [
      "dogs-vs-cats.zip: Skipping, found more recently modified local copy (use --force to force download)\n"
     ]
    }
   ],
   "source": [
    "!kaggle competitions download -c dogs-vs-cats -p Data/"
   ]
  },
  {
   "cell_type": "code",
   "execution_count": 1,
   "id": "ed723296",
   "metadata": {},
   "outputs": [
    {
     "name": "stderr",
     "output_type": "stream",
     "text": [
      "C:\\Users\\nites\\.conda\\envs\\deeplearning\\lib\\site-packages\\ipykernel\\parentpoller.py:113: UserWarning: Parent poll failed.  If the frontend dies,\n",
      "                the kernel may be left running.  Please let us know\n",
      "                about your system (bitness, Python, etc.) at\n",
      "                ipython-dev@scipy.org\n",
      "  warnings.warn(\"\"\"Parent poll failed.  If the frontend dies,\n"
     ]
    }
   ],
   "source": [
    "import os\n",
    "import shutil\n",
    "import zipfile\n",
    "import matplotlib.image as image\n",
    "from io import BytesIO\n",
    "import matplotlib.pyplot as plt\n",
    "from PIL import Image\n",
    "import numpy as np\n",
    "import pandas as pd\n",
    "from keras.utils import to_categorical\n",
    "from keras.layers import Conv2D,MaxPooling2D,Activation,Dense,Flatten,Dropout\n",
    "from keras.models import Sequential\n",
    "from keras.initializers import RandomNormal,RandomUniform\n",
    "from keras.optimizers import Adam,RMSprop\n",
    "from sklearn.model_selection import train_test_split\n",
    "from keras.preprocessing.image import ImageDataGenerator"
   ]
  },
  {
   "cell_type": "code",
   "execution_count": 2,
   "id": "aa8ad73b",
   "metadata": {},
   "outputs": [
    {
     "name": "stdout",
     "output_type": "stream",
     "text": [
      "Extracting files ....\n",
      "An error occured\n",
      "Extraction completed ....\n",
      "Extracted file location (data/).... \n"
     ]
    }
   ],
   "source": [
    "print('Extracting files ....')\n",
    "with zipfile.ZipFile('Data/dogs-vs-cats.zip') as zfiles:\n",
    "    for file in zfiles.namelist():\n",
    "        try:\n",
    "            zfiledata = BytesIO(zfiles.read(file))\n",
    "            efile = zipfile.ZipFile(zfiledata)\n",
    "            efile.extractall('data/')\n",
    "        except:\n",
    "            print('An error occured')\n",
    "print('Extraction completed ....')\n",
    "print('Extracted file location (data/).... ')"
   ]
  },
  {
   "cell_type": "code",
   "execution_count": 3,
   "id": "177535e9",
   "metadata": {},
   "outputs": [],
   "source": [
    "train_data_path = './Data/train/'\n",
    "test_data_path = './Data/test1/'"
   ]
  },
  {
   "cell_type": "code",
   "execution_count": 94,
   "id": "227a7191",
   "metadata": {},
   "outputs": [],
   "source": [
    "def get_data_ready(path):\n",
    "    print('Loading Files .... ')\n",
    "    print('Please Wait ....')\n",
    "    label, file_list ,=[],[]\n",
    "    #data = []\n",
    "    for files in os.walk(path):\n",
    "        for file in files[2]:\n",
    "            filename, extension = os.path.splitext(file)\n",
    "            if extension == '.jpg':\n",
    "                #load_path = path+file\n",
    "                #img = image.imread(load_path)\n",
    "                #data.append(img)\n",
    "                if len(filename.split('.'))>1:\n",
    "                    file_list.append(file)\n",
    "                    label.append(file.split('.')[0])\n",
    "                else:\n",
    "                    file_list.append(file)\n",
    "            else:\n",
    "                print('Not a .jpg file  the actual extension is {}'.format(extension))\n",
    "                \n",
    "#    data = np.asarray(data)\n",
    "    label = np.asarray(label)\n",
    "    print('Files Loading Complete ....')\n",
    "    return label,file_list"
   ]
  },
  {
   "cell_type": "code",
   "execution_count": 95,
   "id": "3df0f304",
   "metadata": {},
   "outputs": [
    {
     "name": "stdout",
     "output_type": "stream",
     "text": [
      "Loading Files .... \n",
      "Please Wait ....\n",
      "Files Loading Complete ....\n"
     ]
    }
   ],
   "source": [
    "train_labels,train_filename = get_data_ready(train_data_path)"
   ]
  },
  {
   "cell_type": "code",
   "execution_count": 96,
   "id": "c9b73792",
   "metadata": {},
   "outputs": [
    {
     "name": "stdout",
     "output_type": "stream",
     "text": [
      "Loading Files .... \n",
      "Please Wait ....\n",
      "Files Loading Complete ....\n"
     ]
    }
   ],
   "source": [
    "test_labels,test_filename = get_data_ready(test_data_path)"
   ]
  },
  {
   "cell_type": "code",
   "execution_count": 97,
   "id": "3557bd89",
   "metadata": {},
   "outputs": [],
   "source": [
    "train_df = pd.DataFrame(data=zip(train_filename,train_labels),columns=['filename','labels'],)\n",
    "test_df = pd.DataFrame(data=test_filename,columns=['filename'])"
   ]
  },
  {
   "cell_type": "code",
   "execution_count": 98,
   "id": "254c4616",
   "metadata": {},
   "outputs": [],
   "source": [
    "train_data,valid_data = train_test_split(train_df,\n",
    "                                         random_state=42,                            \n",
    "                                         test_size=0.25,\n",
    "                                        shuffle=True)"
   ]
  },
  {
   "cell_type": "code",
   "execution_count": 99,
   "id": "260863da",
   "metadata": {},
   "outputs": [],
   "source": [
    "data_gen =ImageDataGenerator(zoom_range=0.2,\n",
    "                             rescale=(1./255.),\n",
    "                             horizontal_flip=True,\n",
    "                             shear_range=0.2,\n",
    "                             validation_split=0.25)"
   ]
  },
  {
   "cell_type": "code",
   "execution_count": 100,
   "id": "4d574964",
   "metadata": {},
   "outputs": [],
   "source": [
    "valid_data.reset_index(drop=True,inplace=True)\n",
    "train_data.reset_index(drop=True,inplace=True)"
   ]
  },
  {
   "cell_type": "code",
   "execution_count": 101,
   "id": "c11c5088",
   "metadata": {},
   "outputs": [
    {
     "name": "stdout",
     "output_type": "stream",
     "text": [
      "Found 18750 validated image filenames belonging to 2 classes.\n",
      "Found 6250 validated image filenames belonging to 2 classes.\n"
     ]
    }
   ],
   "source": [
    "train_data_generator = data_gen.flow_from_dataframe(dataframe = train_df,\n",
    "                                                    directory = './Data/train/',\n",
    "                                                    x_col = 'filename',\n",
    "                                                    y_col = 'labels',\n",
    "                                                    target_size = (128,128),\n",
    "                                                    subset = 'training',\n",
    "                                                    batch_size = 32,\n",
    "                                                    class_mode = 'binary')\n",
    "\n",
    "valid_data_generator = data_gen.flow_from_dataframe(dataframe = train_df,\n",
    "                                                    directory = 'Data/train/',\n",
    "                                                    x_col = 'filename',\n",
    "                                                    y_col = 'labels',\n",
    "                                                    target_size = (128,128),\n",
    "                                                    subset = 'validation',\n",
    "                                                    batch_size = 32,\n",
    "                                                    class_mode = 'binary')"
   ]
  },
  {
   "cell_type": "code",
   "execution_count": 102,
   "id": "8c7f0989",
   "metadata": {},
   "outputs": [
    {
     "data": {
      "text/plain": [
       "18750"
      ]
     },
     "execution_count": 102,
     "metadata": {},
     "output_type": "execute_result"
    }
   ],
   "source": [
    "train_data['filename'].nunique()"
   ]
  },
  {
   "cell_type": "code",
   "execution_count": 103,
   "id": "9f848212",
   "metadata": {},
   "outputs": [
    {
     "name": "stdout",
     "output_type": "stream",
     "text": [
      "Model: \"sequential_6\"\n",
      "_________________________________________________________________\n",
      "Layer (type)                 Output Shape              Param #   \n",
      "=================================================================\n",
      "conv2d_15 (Conv2D)           (None, 64, 64, 32)        896       \n",
      "_________________________________________________________________\n",
      "max_pooling2d_12 (MaxPooling (None, 63, 63, 32)        0         \n",
      "_________________________________________________________________\n",
      "dropout_9 (Dropout)          (None, 63, 63, 32)        0         \n",
      "_________________________________________________________________\n",
      "conv2d_16 (Conv2D)           (None, 61, 61, 64)        18496     \n",
      "_________________________________________________________________\n",
      "max_pooling2d_13 (MaxPooling (None, 60, 60, 64)        0         \n",
      "_________________________________________________________________\n",
      "conv2d_17 (Conv2D)           (None, 30, 30, 64)        36928     \n",
      "_________________________________________________________________\n",
      "max_pooling2d_14 (MaxPooling (None, 29, 29, 64)        0         \n",
      "_________________________________________________________________\n",
      "dropout_10 (Dropout)         (None, 29, 29, 64)        0         \n",
      "_________________________________________________________________\n",
      "conv2d_18 (Conv2D)           (None, 27, 27, 64)        36928     \n",
      "_________________________________________________________________\n",
      "max_pooling2d_15 (MaxPooling (None, 26, 26, 64)        0         \n",
      "_________________________________________________________________\n",
      "conv2d_19 (Conv2D)           (None, 13, 13, 128)       73856     \n",
      "_________________________________________________________________\n",
      "dropout_11 (Dropout)         (None, 13, 13, 128)       0         \n",
      "_________________________________________________________________\n",
      "flatten_6 (Flatten)          (None, 21632)             0         \n",
      "_________________________________________________________________\n",
      "dense_21 (Dense)             (None, 64)                1384512   \n",
      "_________________________________________________________________\n",
      "dense_22 (Dense)             (None, 128)               8320      \n",
      "_________________________________________________________________\n",
      "dense_23 (Dense)             (None, 256)               33024     \n",
      "_________________________________________________________________\n",
      "dense_24 (Dense)             (None, 1)                 257       \n",
      "=================================================================\n",
      "Total params: 1,593,217\n",
      "Trainable params: 1,593,217\n",
      "Non-trainable params: 0\n",
      "_________________________________________________________________\n"
     ]
    }
   ],
   "source": [
    "model1 = Sequential()\n",
    "\n",
    "model1.add(Conv2D(filters = 32 ,\n",
    "                  kernel_size = (3,3),\n",
    "                  strides = (2,2),\n",
    "                  padding = 'same',\n",
    "                  activation='relu',\n",
    "                  input_shape = (128,128,3)))\n",
    "\n",
    "model1.add(MaxPooling2D(pool_size=(2,2),\n",
    "                        strides=(1, 1),\n",
    "                        padding='valid'))\n",
    "\n",
    "model1.add(Dropout(0.25))\n",
    "\n",
    "model1.add(Conv2D(filters = 64 ,\n",
    "                  kernel_size = (3,3),\n",
    "                  strides = (1,1),\n",
    "                  padding = 'valid',\n",
    "                  activation='relu'))\n",
    "\n",
    "model1.add(MaxPooling2D(pool_size=(2,2),\n",
    "                        strides=(1, 1), \n",
    "                        padding='valid'))\n",
    "\n",
    "model1.add(Conv2D(filters = 64 ,\n",
    "                  kernel_size = (3,3),\n",
    "                  strides = (2,2),\n",
    "                  padding = 'same',\n",
    "                  activation='relu'))\n",
    "model1.add(MaxPooling2D(pool_size=(2,2),\n",
    "                        strides=(1, 1),\n",
    "                        padding='valid'))\n",
    "\n",
    "model1.add(Dropout(0.25))\n",
    "model1.add(Conv2D(filters = 64 ,\n",
    "                  kernel_size = (3,3),\n",
    "                  strides = (1,1),\n",
    "                  padding = 'valid',\n",
    "                  activation='relu'))\n",
    "\n",
    "model1.add(MaxPooling2D(pool_size=(2,2),\n",
    "                        strides=(1, 1),\n",
    "                        padding='valid'))\n",
    "\n",
    "\n",
    "model1.add(Conv2D(filters = 128 ,\n",
    "                  kernel_size = (3,3),\n",
    "                  strides = (2,2),\n",
    "                  padding = 'same',\n",
    "                  activation='relu'))\n",
    "\n",
    "model1.add(Dropout(0.25))\n",
    "\n",
    "model1.add(Flatten())\n",
    "model1.add(Dense(units=64,activation = 'relu'))\n",
    "model1.add(Dense(units=128,activation = 'relu'))\n",
    "model1.add(Dense(units=256,activation = 'relu'))\n",
    "model1.add(Dense(units=1,activation = 'sigmoid'))\n",
    "\n",
    "\n",
    "model1.summary()"
   ]
  },
  {
   "cell_type": "code",
   "execution_count": 104,
   "id": "96756913",
   "metadata": {},
   "outputs": [],
   "source": [
    "opt = RMSprop(learning_rate= 0.1)\n",
    "model1.compile(optimizer=opt,\n",
    "               loss = 'binary_crossentropy',\n",
    "               metrics = 'accuracy')"
   ]
  },
  {
   "cell_type": "code",
   "execution_count": 105,
   "id": "cb30ef9b",
   "metadata": {},
   "outputs": [
    {
     "name": "stdout",
     "output_type": "stream",
     "text": [
      "Epoch 1/10\n",
      "586/586 [==============================] - 692s 1s/step - loss: 2949678336.0000 - accuracy: 0.6085 - val_loss: 0.8063 - val_accuracy: 0.0000e+00\n",
      "Epoch 2/10\n",
      "586/586 [==============================] - 355s 606ms/step - loss: 0.6395 - accuracy: 0.6663 - val_loss: 1.1977 - val_accuracy: 0.0000e+00\n",
      "Epoch 3/10\n",
      "586/586 [==============================] - 352s 601ms/step - loss: 0.6390 - accuracy: 0.6667 - val_loss: 1.0697 - val_accuracy: 0.0000e+00\n",
      "Epoch 4/10\n",
      "586/586 [==============================] - 353s 602ms/step - loss: 0.6384 - accuracy: 0.6667 - val_loss: 1.1195 - val_accuracy: 0.0000e+00\n",
      "Epoch 5/10\n",
      "586/586 [==============================] - 352s 600ms/step - loss: 0.6384 - accuracy: 0.6667 - val_loss: 1.2693 - val_accuracy: 0.0000e+00\n",
      "Epoch 6/10\n",
      "586/586 [==============================] - 353s 602ms/step - loss: 0.6393 - accuracy: 0.6667 - val_loss: 1.0871 - val_accuracy: 0.0000e+00\n",
      "Epoch 7/10\n",
      "586/586 [==============================] - 351s 600ms/step - loss: 0.6383 - accuracy: 0.6667 - val_loss: 0.9447 - val_accuracy: 0.0000e+00\n",
      "Epoch 8/10\n",
      "586/586 [==============================] - 351s 599ms/step - loss: 0.6386 - accuracy: 0.6667 - val_loss: 1.0570 - val_accuracy: 0.0000e+00\n",
      "Epoch 9/10\n",
      "586/586 [==============================] - 352s 602ms/step - loss: 0.6385 - accuracy: 0.6667 - val_loss: 1.2641 - val_accuracy: 0.0000e+00\n",
      "Epoch 10/10\n",
      "586/586 [==============================] - 519s 886ms/step - loss: 0.6389 - accuracy: 0.6667 - val_loss: 1.0450 - val_accuracy: 0.0000e+00\n"
     ]
    }
   ],
   "source": [
    "model1_summary = model1.fit(train_data_generator,\n",
    "                                      shuffle=True,\n",
    "                                      epochs = 10,\n",
    "                                      validation_data=valid_data_generator)"
   ]
  },
  {
   "cell_type": "code",
   "execution_count": 106,
   "id": "54584274",
   "metadata": {},
   "outputs": [
    {
     "name": "stdout",
     "output_type": "stream",
     "text": [
      "Model: \"sequential_7\"\n",
      "_________________________________________________________________\n",
      "Layer (type)                 Output Shape              Param #   \n",
      "=================================================================\n",
      "conv2d_20 (Conv2D)           (None, 64, 64, 32)        896       \n",
      "_________________________________________________________________\n",
      "max_pooling2d_16 (MaxPooling (None, 63, 63, 32)        0         \n",
      "_________________________________________________________________\n",
      "dropout_12 (Dropout)         (None, 63, 63, 32)        0         \n",
      "_________________________________________________________________\n",
      "conv2d_21 (Conv2D)           (None, 61, 61, 64)        18496     \n",
      "_________________________________________________________________\n",
      "max_pooling2d_17 (MaxPooling (None, 60, 60, 64)        0         \n",
      "_________________________________________________________________\n",
      "conv2d_22 (Conv2D)           (None, 30, 30, 128)       73856     \n",
      "_________________________________________________________________\n",
      "max_pooling2d_18 (MaxPooling (None, 29, 29, 128)       0         \n",
      "_________________________________________________________________\n",
      "dropout_13 (Dropout)         (None, 29, 29, 128)       0         \n",
      "_________________________________________________________________\n",
      "conv2d_23 (Conv2D)           (None, 27, 27, 256)       295168    \n",
      "_________________________________________________________________\n",
      "max_pooling2d_19 (MaxPooling (None, 26, 26, 256)       0         \n",
      "_________________________________________________________________\n",
      "conv2d_24 (Conv2D)           (None, 13, 13, 256)       590080    \n",
      "_________________________________________________________________\n",
      "dropout_14 (Dropout)         (None, 13, 13, 256)       0         \n",
      "_________________________________________________________________\n",
      "flatten_7 (Flatten)          (None, 43264)             0         \n",
      "_________________________________________________________________\n",
      "dense_25 (Dense)             (None, 64)                2768960   \n",
      "_________________________________________________________________\n",
      "dense_26 (Dense)             (None, 128)               8320      \n",
      "_________________________________________________________________\n",
      "dense_27 (Dense)             (None, 256)               33024     \n",
      "_________________________________________________________________\n",
      "dense_28 (Dense)             (None, 1)                 257       \n",
      "=================================================================\n",
      "Total params: 3,789,057\n",
      "Trainable params: 3,789,057\n",
      "Non-trainable params: 0\n",
      "_________________________________________________________________\n"
     ]
    }
   ],
   "source": [
    "model2 = Sequential()\n",
    "\n",
    "model2.add(Conv2D(filters = 32 ,\n",
    "                  kernel_size = (3,3),\n",
    "                  strides = (2,2),\n",
    "                  padding = 'same',\n",
    "                  activation='relu',\n",
    "                  input_shape = (128,128,3)))\n",
    "\n",
    "model2.add(MaxPooling2D(pool_size=(2,2),\n",
    "                        strides=(1, 1),\n",
    "                        padding='valid'))\n",
    "\n",
    "model2.add(Dropout(0.25))\n",
    "\n",
    "model2.add(Conv2D(filters = 64 ,\n",
    "                  kernel_size = (3,3),\n",
    "                  strides = (1,1),\n",
    "                  padding = 'valid',\n",
    "                  activation='relu'))\n",
    "\n",
    "model2.add(MaxPooling2D(pool_size=(2,2),\n",
    "                        strides=(1, 1), \n",
    "                        padding='valid'))\n",
    "\n",
    "model2.add(Conv2D(filters = 128 ,\n",
    "                  kernel_size = (3,3),\n",
    "                  strides = (2,2),\n",
    "                  padding = 'same',\n",
    "                  activation='relu'))\n",
    "model2.add(MaxPooling2D(pool_size=(2,2),\n",
    "                        strides=(1, 1),\n",
    "                        padding='valid'))\n",
    "\n",
    "model2.add(Dropout(0.25))\n",
    "model2.add(Conv2D(filters = 256 ,\n",
    "                  kernel_size = (3,3),\n",
    "                  strides = (1,1),\n",
    "                  padding = 'valid',\n",
    "                  activation='relu'))\n",
    "\n",
    "model2.add(MaxPooling2D(pool_size=(2,2),\n",
    "                        strides=(1, 1),\n",
    "                        padding='valid'))\n",
    "\n",
    "\n",
    "model2.add(Conv2D(filters = 256 ,\n",
    "                  kernel_size = (3,3),\n",
    "                  strides = (2,2),\n",
    "                  padding = 'same',\n",
    "                  activation='relu'))\n",
    "\n",
    "model2.add(Dropout(0.25))\n",
    "\n",
    "model2.add(Flatten())\n",
    "model2.add(Dense(units=64,activation = 'relu'))\n",
    "model2.add(Dense(units=128,activation = 'relu'))\n",
    "model2.add(Dense(units=256,activation = 'relu'))\n",
    "model2.add(Dense(units=1,activation = 'sigmoid'))\n",
    "\n",
    "\n",
    "model2.summary()"
   ]
  },
  {
   "cell_type": "code",
   "execution_count": 107,
   "id": "2b0c9f72",
   "metadata": {},
   "outputs": [],
   "source": [
    "opt = Adam(learning_rate= 0.1)\n",
    "model2.compile(optimizer=opt,\n",
    "               loss = 'binary_crossentropy',\n",
    "               metrics = 'accuracy')"
   ]
  },
  {
   "cell_type": "code",
   "execution_count": null,
   "id": "05e25bcf",
   "metadata": {},
   "outputs": [
    {
     "name": "stdout",
     "output_type": "stream",
     "text": [
      "Epoch 1/10\n",
      "586/586 [==============================] - 877s 1s/step - loss: 201962128.0000 - accuracy: 0.6556 - val_loss: 1.1177 - val_accuracy: 0.0000e+00\n",
      "Epoch 2/10\n",
      "404/586 [===================>..........] - ETA: 3:41 - loss: 0.6435 - accuracy: 0.6704"
     ]
    }
   ],
   "source": [
    "model2_summary = model2.fit(train_data_generator,\n",
    "                            shuffle=True,\n",
    "                            epochs = 10,\n",
    "                            validation_data=valid_data_generator)"
   ]
  },
  {
   "cell_type": "code",
   "execution_count": null,
   "id": "bf6d47c3",
   "metadata": {},
   "outputs": [],
   "source": [
    "test_gen = ImageDataGenerator(rescale=(1./255.))\n",
    "test_data_generator = test_gen.flow_from_dataframe(test_df,\n",
    "                                                   directory='./Data/test1/',\n",
    "                                                   x_col='filename',\n",
    "                                                   y_col=None,\n",
    "                                                   class_mode=None,\n",
    "                                                   target_size=(128,128),\n",
    "                                                   batch_size=32)"
   ]
  },
  {
   "cell_type": "code",
   "execution_count": null,
   "id": "c5f74251",
   "metadata": {},
   "outputs": [],
   "source": [
    "pred1 = model1.predict(test_data_generator)"
   ]
  },
  {
   "cell_type": "code",
   "execution_count": null,
   "id": "d37141f3",
   "metadata": {},
   "outputs": [],
   "source": [
    "pred2 = model2.predict(test_data_generator)"
   ]
  },
  {
   "cell_type": "code",
   "execution_count": null,
   "id": "3674a428",
   "metadata": {},
   "outputs": [],
   "source": []
  }
 ],
 "metadata": {
  "kernelspec": {
   "display_name": "Python [conda env:.conda-deeplearning]",
   "language": "python",
   "name": "conda-env-.conda-deeplearning-py"
  },
  "language_info": {
   "codemirror_mode": {
    "name": "ipython",
    "version": 3
   },
   "file_extension": ".py",
   "mimetype": "text/x-python",
   "name": "python",
   "nbconvert_exporter": "python",
   "pygments_lexer": "ipython3",
   "version": "3.8.11"
  }
 },
 "nbformat": 4,
 "nbformat_minor": 5
}

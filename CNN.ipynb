{
 "cells": [
  {
   "cell_type": "code",
   "execution_count": 1,
   "id": "f83b93ff",
   "metadata": {},
   "outputs": [
    {
     "name": "stdout",
     "output_type": "stream",
     "text": [
      "E:\\Projets\\Dog and cat\n"
     ]
    }
   ],
   "source": [
    "!cd"
   ]
  },
  {
   "cell_type": "code",
   "execution_count": 1,
   "id": "8212a1cf",
   "metadata": {},
   "outputs": [
    {
     "name": "stdout",
     "output_type": "stream",
     "text": [
      "dogs-vs-cats.zip: Skipping, found more recently modified local copy (use --force to force download)\n"
     ]
    }
   ],
   "source": [
    "!kaggle competitions download -c dogs-vs-cats -p Data/"
   ]
  },
  {
   "cell_type": "code",
   "execution_count": 1,
   "id": "ed723296",
   "metadata": {},
   "outputs": [],
   "source": [
    "import os\n",
    "import shutil\n",
    "import zipfile\n",
    "import matplotlib.image as image\n",
    "from io import BytesIO\n",
    "import matplotlib.pyplot as plt\n",
    "from PIL import Image\n",
    "import numpy as np\n",
    "import pandas as pd\n",
    "from keras.utils import to_categorical\n",
    "from keras.layers import Conv2D,MaxPooling2D,Activation,Dense,Flatten,Dropout\n",
    "from keras.models import Sequential\n",
    "from keras.initializers import RandomNormal,RandomUniform\n",
    "from keras.optimizers import Adam,RMSprop\n",
    "from sklearn.model_selection import train_test_split\n",
    "from keras.preprocessing.image import ImageDataGenerator"
   ]
  },
  {
   "cell_type": "code",
   "execution_count": 2,
   "id": "aa8ad73b",
   "metadata": {},
   "outputs": [
    {
     "name": "stdout",
     "output_type": "stream",
     "text": [
      "Extracting files ....\n",
      "An error occured\n",
      "Extraction completed ....\n",
      "Extracted file location (data/).... \n"
     ]
    }
   ],
   "source": [
    "print('Extracting files ....')\n",
    "with zipfile.ZipFile('Data/dogs-vs-cats.zip') as zfiles:\n",
    "    for file in zfiles.namelist():\n",
    "        try:\n",
    "            zfiledata = BytesIO(zfiles.read(file))\n",
    "            efile = zipfile.ZipFile(zfiledata)\n",
    "            efile.extractall('data/')\n",
    "        except:\n",
    "            print('An error occured')\n",
    "print('Extraction completed ....')\n",
    "print('Extracted file location (data/).... ')"
   ]
  },
  {
   "cell_type": "code",
   "execution_count": 3,
   "id": "177535e9",
   "metadata": {},
   "outputs": [],
   "source": [
    "train_data_path = './Data/train/'\n",
    "test_data_path = './Data/test1/'"
   ]
  },
  {
   "cell_type": "code",
   "execution_count": 4,
   "id": "227a7191",
   "metadata": {},
   "outputs": [],
   "source": [
    "def get_data_ready(path):\n",
    "    print('Loading Files .... ')\n",
    "    print('Please Wait ....')\n",
    "    label, file_list ,=[],[]\n",
    "    #data = []\n",
    "    for files in os.walk(path):\n",
    "        for file in files[2]:\n",
    "            filename, extension = os.path.splitext(file)\n",
    "            if extension == '.jpg':\n",
    "                #load_path = path+file\n",
    "                #img = image.imread(load_path)\n",
    "                #data.append(img)\n",
    "                if len(filename.split('.'))>1:\n",
    "                    file_list.append(file)\n",
    "                    label.append(file.split('.')[0])\n",
    "                else:\n",
    "                    file_list.append(file)\n",
    "            else:\n",
    "                print('Not a .jpg file  the actual extension is {}'.format(extension))\n",
    "                \n",
    "#    data = np.asarray(data)\n",
    "    label = np.asarray(label)\n",
    "    print('Files Loading Complete ....')\n",
    "    return label,file_list"
   ]
  },
  {
   "cell_type": "code",
   "execution_count": 5,
   "id": "3df0f304",
   "metadata": {},
   "outputs": [
    {
     "name": "stdout",
     "output_type": "stream",
     "text": [
      "Loading Files .... \n",
      "Please Wait ....\n",
      "Files Loading Complete ....\n"
     ]
    }
   ],
   "source": [
    "train_labels,train_filename = get_data_ready(train_data_path)"
   ]
  },
  {
   "cell_type": "code",
   "execution_count": 6,
   "id": "c9b73792",
   "metadata": {},
   "outputs": [
    {
     "name": "stdout",
     "output_type": "stream",
     "text": [
      "Loading Files .... \n",
      "Please Wait ....\n",
      "Files Loading Complete ....\n"
     ]
    }
   ],
   "source": [
    "test_labels,test_filename = get_data_ready(test_data_path)"
   ]
  },
  {
   "cell_type": "code",
   "execution_count": 7,
   "id": "3557bd89",
   "metadata": {},
   "outputs": [],
   "source": [
    "train_df = pd.DataFrame(data=zip(train_filename,train_labels),columns=['filename','labels'],)\n",
    "test_df = pd.DataFrame(data=test_filename,columns=['filename'])"
   ]
  },
  {
   "cell_type": "code",
   "execution_count": 55,
   "id": "254c4616",
   "metadata": {},
   "outputs": [],
   "source": [
    "train_data,valid_data = train_test_split(train_df,\n",
    "                                         random_state=42,\n",
    "                                         test_size=0.25,\n",
    "                                         shuffle=True)"
   ]
  },
  {
   "cell_type": "code",
   "execution_count": 56,
   "id": "260863da",
   "metadata": {},
   "outputs": [],
   "source": [
    "data_gen =ImageDataGenerator(zoom_range=0.2,\n",
    "                             rescale=(1./255.),\n",
    "                             horizontal_flip=True,\n",
    "                             shear_range=0.2)"
   ]
  },
  {
   "cell_type": "code",
   "execution_count": 10,
   "id": "4d574964",
   "metadata": {},
   "outputs": [],
   "source": [
    "valid_data.reset_index(drop=True,inplace=True)\n",
    "train_data.reset_index(drop=True,inplace=True)"
   ]
  },
  {
   "cell_type": "code",
   "execution_count": 58,
   "id": "c11c5088",
   "metadata": {},
   "outputs": [
    {
     "name": "stdout",
     "output_type": "stream",
     "text": [
      "Found 18750 validated image filenames belonging to 2 classes.\n",
      "Found 6250 validated image filenames belonging to 2 classes.\n"
     ]
    }
   ],
   "source": [
    "train_data_generator = data_gen.flow_from_dataframe(dataframe = train_data,\n",
    "                                                    shuffle=True,\n",
    "                                                    directory = './Data/train/',\n",
    "                                                    x_col = 'filename',\n",
    "                                                    y_col = 'labels',\n",
    "                                                    target_size = (128,128),\n",
    "                                                    batch_size = 32,\n",
    "                                                    class_mode = 'binary')\n",
    "\n",
    "valid_data_generator = data_gen.flow_from_dataframe(dataframe = valid_data,\n",
    "                                                    shuffle=True,\n",
    "                                                    directory = 'Data/train/',\n",
    "                                                    x_col = 'filename',\n",
    "                                                    y_col = 'labels',\n",
    "                                                    target_size = (128,128),\n",
    "                                                    batch_size = 32,\n",
    "                                                    class_mode = 'binary')"
   ]
  },
  {
   "cell_type": "code",
   "execution_count": 59,
   "id": "a8b2cfe8",
   "metadata": {},
   "outputs": [],
   "source": [
    "l =[]\n",
    "for i in (valid_data_generator.filenames):\n",
    "    l.append(i.split('.')[0])"
   ]
  },
  {
   "cell_type": "code",
   "execution_count": 60,
   "id": "0f0604a9",
   "metadata": {},
   "outputs": [
    {
     "data": {
      "text/plain": [
       "array(['cat', 'dog'], dtype='<U3')"
      ]
     },
     "execution_count": 60,
     "metadata": {},
     "output_type": "execute_result"
    }
   ],
   "source": [
    "np.unique(l)"
   ]
  },
  {
   "cell_type": "code",
   "execution_count": 61,
   "id": "8c7f0989",
   "metadata": {},
   "outputs": [
    {
     "data": {
      "text/plain": [
       "18750"
      ]
     },
     "execution_count": 61,
     "metadata": {},
     "output_type": "execute_result"
    }
   ],
   "source": [
    "train_data['filename'].nunique()"
   ]
  },
  {
   "cell_type": "code",
   "execution_count": 62,
   "id": "9f848212",
   "metadata": {},
   "outputs": [
    {
     "name": "stdout",
     "output_type": "stream",
     "text": [
      "Model: \"sequential_5\"\n",
      "_________________________________________________________________\n",
      "Layer (type)                 Output Shape              Param #   \n",
      "=================================================================\n",
      "conv2d_15 (Conv2D)           (None, 64, 64, 32)        896       \n",
      "_________________________________________________________________\n",
      "max_pooling2d_12 (MaxPooling (None, 63, 63, 32)        0         \n",
      "_________________________________________________________________\n",
      "dropout_9 (Dropout)          (None, 63, 63, 32)        0         \n",
      "_________________________________________________________________\n",
      "conv2d_16 (Conv2D)           (None, 61, 61, 64)        18496     \n",
      "_________________________________________________________________\n",
      "max_pooling2d_13 (MaxPooling (None, 60, 60, 64)        0         \n",
      "_________________________________________________________________\n",
      "conv2d_17 (Conv2D)           (None, 30, 30, 64)        36928     \n",
      "_________________________________________________________________\n",
      "max_pooling2d_14 (MaxPooling (None, 29, 29, 64)        0         \n",
      "_________________________________________________________________\n",
      "dropout_10 (Dropout)         (None, 29, 29, 64)        0         \n",
      "_________________________________________________________________\n",
      "conv2d_18 (Conv2D)           (None, 27, 27, 64)        36928     \n",
      "_________________________________________________________________\n",
      "max_pooling2d_15 (MaxPooling (None, 26, 26, 64)        0         \n",
      "_________________________________________________________________\n",
      "conv2d_19 (Conv2D)           (None, 13, 13, 128)       73856     \n",
      "_________________________________________________________________\n",
      "dropout_11 (Dropout)         (None, 13, 13, 128)       0         \n",
      "_________________________________________________________________\n",
      "flatten_5 (Flatten)          (None, 21632)             0         \n",
      "_________________________________________________________________\n",
      "dense_18 (Dense)             (None, 64)                1384512   \n",
      "_________________________________________________________________\n",
      "dense_19 (Dense)             (None, 128)               8320      \n",
      "_________________________________________________________________\n",
      "dense_20 (Dense)             (None, 256)               33024     \n",
      "_________________________________________________________________\n",
      "dense_21 (Dense)             (None, 1)                 257       \n",
      "=================================================================\n",
      "Total params: 1,593,217\n",
      "Trainable params: 1,593,217\n",
      "Non-trainable params: 0\n",
      "_________________________________________________________________\n"
     ]
    }
   ],
   "source": [
    "model1 = Sequential()\n",
    "\n",
    "model1.add(Conv2D(filters = 32 ,\n",
    "                  kernel_size = (3,3),\n",
    "                  strides = (2,2),\n",
    "                  padding = 'same',\n",
    "                  activation='relu',\n",
    "                  input_shape = (128,128,3)))\n",
    "\n",
    "model1.add(MaxPooling2D(pool_size=(2,2),\n",
    "                        strides=(1, 1),\n",
    "                        padding='valid'))\n",
    "\n",
    "model1.add(Dropout(0.25))\n",
    "\n",
    "model1.add(Conv2D(filters = 64 ,\n",
    "                  kernel_size = (3,3),\n",
    "                  strides = (1,1),\n",
    "                  padding = 'valid',\n",
    "                  activation='relu'))\n",
    "\n",
    "model1.add(MaxPooling2D(pool_size=(2,2),\n",
    "                        strides=(1, 1), \n",
    "                        padding='valid'))\n",
    "\n",
    "model1.add(Conv2D(filters = 64 ,\n",
    "                  kernel_size = (3,3),\n",
    "                  strides = (2,2),\n",
    "                  padding = 'same',\n",
    "                  activation='relu'))\n",
    "model1.add(MaxPooling2D(pool_size=(2,2),\n",
    "                        strides=(1, 1),\n",
    "                        padding='valid'))\n",
    "\n",
    "model1.add(Dropout(0.25))\n",
    "model1.add(Conv2D(filters = 64 ,\n",
    "                  kernel_size = (3,3),\n",
    "                  strides = (1,1),\n",
    "                  padding = 'valid',\n",
    "                  activation='relu'))\n",
    "\n",
    "model1.add(MaxPooling2D(pool_size=(2,2),\n",
    "                        strides=(1, 1),\n",
    "                        padding='valid'))\n",
    "\n",
    "\n",
    "model1.add(Conv2D(filters = 128 ,\n",
    "                  kernel_size = (3,3),\n",
    "                  strides = (2,2),\n",
    "                  padding = 'same',\n",
    "                  activation='relu'))\n",
    "\n",
    "model1.add(Dropout(0.25))\n",
    "\n",
    "model1.add(Flatten())\n",
    "model1.add(Dense(units=64,activation = 'relu'))\n",
    "model1.add(Dense(units=128,activation = 'relu'))\n",
    "model1.add(Dense(units=256,activation = 'relu'))\n",
    "model1.add(Dense(units=1,activation = 'sigmoid'))\n",
    "\n",
    "\n",
    "model1.summary()"
   ]
  },
  {
   "cell_type": "code",
   "execution_count": 63,
   "id": "96756913",
   "metadata": {},
   "outputs": [],
   "source": [
    "opt = Adam(learning_rate= 0.1)\n",
    "model1.compile(optimizer=opt,\n",
    "               loss = 'binary_crossentropy',\n",
    "               metrics = 'accuracy')"
   ]
  },
  {
   "cell_type": "code",
   "execution_count": 64,
   "id": "cb30ef9b",
   "metadata": {},
   "outputs": [
    {
     "name": "stdout",
     "output_type": "stream",
     "text": [
      "586/586 [==============================] - 468s 798ms/step - loss: 48206.1328 - accuracy: 0.4959 - val_loss: 0.6934 - val_accuracy: 0.5026\n"
     ]
    }
   ],
   "source": [
    "model1_summary = model1.fit(train_data_generator,\n",
    "                            shuffle=True,\n",
    "                            epochs = 1,\n",
    "                            validation_data=valid_data_generator)"
   ]
  },
  {
   "cell_type": "code",
   "execution_count": 68,
   "id": "54584274",
   "metadata": {},
   "outputs": [
    {
     "name": "stdout",
     "output_type": "stream",
     "text": [
      "Model: \"sequential_6\"\n",
      "_________________________________________________________________\n",
      "Layer (type)                 Output Shape              Param #   \n",
      "=================================================================\n",
      "conv2d_20 (Conv2D)           (None, 64, 64, 32)        896       \n",
      "_________________________________________________________________\n",
      "max_pooling2d_16 (MaxPooling (None, 63, 63, 32)        0         \n",
      "_________________________________________________________________\n",
      "dropout_12 (Dropout)         (None, 63, 63, 32)        0         \n",
      "_________________________________________________________________\n",
      "conv2d_21 (Conv2D)           (None, 61, 61, 64)        18496     \n",
      "_________________________________________________________________\n",
      "max_pooling2d_17 (MaxPooling (None, 60, 60, 64)        0         \n",
      "_________________________________________________________________\n",
      "conv2d_22 (Conv2D)           (None, 30, 30, 128)       73856     \n",
      "_________________________________________________________________\n",
      "max_pooling2d_18 (MaxPooling (None, 29, 29, 128)       0         \n",
      "_________________________________________________________________\n",
      "dropout_13 (Dropout)         (None, 29, 29, 128)       0         \n",
      "_________________________________________________________________\n",
      "conv2d_23 (Conv2D)           (None, 27, 27, 256)       295168    \n",
      "_________________________________________________________________\n",
      "max_pooling2d_19 (MaxPooling (None, 26, 26, 256)       0         \n",
      "_________________________________________________________________\n",
      "conv2d_24 (Conv2D)           (None, 13, 13, 256)       590080    \n",
      "_________________________________________________________________\n",
      "dropout_14 (Dropout)         (None, 13, 13, 256)       0         \n",
      "_________________________________________________________________\n",
      "flatten_6 (Flatten)          (None, 43264)             0         \n",
      "_________________________________________________________________\n",
      "dense_22 (Dense)             (None, 64)                2768960   \n",
      "_________________________________________________________________\n",
      "dense_23 (Dense)             (None, 128)               8320      \n",
      "_________________________________________________________________\n",
      "dense_24 (Dense)             (None, 256)               33024     \n",
      "_________________________________________________________________\n",
      "dense_25 (Dense)             (None, 1)                 257       \n",
      "=================================================================\n",
      "Total params: 3,789,057\n",
      "Trainable params: 3,789,057\n",
      "Non-trainable params: 0\n",
      "_________________________________________________________________\n"
     ]
    }
   ],
   "source": [
    "model2 = Sequential()\n",
    "\n",
    "model2.add(Conv2D(filters = 32 ,\n",
    "                  kernel_size = (3,3),\n",
    "                  strides = (2,2),\n",
    "                  padding = 'same',\n",
    "                  activation='relu',\n",
    "                  input_shape = (128,128,3)))\n",
    "\n",
    "model2.add(MaxPooling2D(pool_size=(2,2),\n",
    "                        strides=(1, 1),\n",
    "                        padding='valid'))\n",
    "\n",
    "model2.add(Dropout(0.25))\n",
    "\n",
    "model2.add(Conv2D(filters = 64 ,\n",
    "                  kernel_size = (3,3),\n",
    "                  strides = (1,1),\n",
    "                  padding = 'valid',\n",
    "                  activation='relu'))\n",
    "\n",
    "model2.add(MaxPooling2D(pool_size=(2,2),\n",
    "                        strides=(1, 1), \n",
    "                        padding='valid'))\n",
    "\n",
    "model2.add(Conv2D(filters = 128 ,\n",
    "                  kernel_size = (3,3),\n",
    "                  strides = (2,2),\n",
    "                  padding = 'same',\n",
    "                  activation='relu'))\n",
    "model2.add(MaxPooling2D(pool_size=(2,2),\n",
    "                        strides=(1, 1),\n",
    "                        padding='valid'))\n",
    "\n",
    "model2.add(Dropout(0.25))\n",
    "model2.add(Conv2D(filters = 256 ,\n",
    "                  kernel_size = (3,3),\n",
    "                  strides = (1,1),\n",
    "                  padding = 'valid',\n",
    "                  activation='relu'))\n",
    "\n",
    "model2.add(MaxPooling2D(pool_size=(2,2),\n",
    "                        strides=(1, 1),\n",
    "                        padding='valid'))\n",
    "\n",
    "\n",
    "model2.add(Conv2D(filters = 256 ,\n",
    "                  kernel_size = (3,3),\n",
    "                  strides = (2,2),\n",
    "                  padding = 'same',\n",
    "                  activation='relu'))\n",
    "\n",
    "model2.add(Dropout(0.25))\n",
    "\n",
    "model2.add(Flatten())\n",
    "model2.add(Dense(units=64,activation = 'relu'))\n",
    "model2.add(Dense(units=128,activation = 'relu'))\n",
    "model2.add(Dense(units=256,activation = 'relu'))\n",
    "model2.add(Dense(units=1,activation = 'sigmoid'))\n",
    "\n",
    "\n",
    "model2.summary()"
   ]
  },
  {
   "cell_type": "code",
   "execution_count": 69,
   "id": "2b0c9f72",
   "metadata": {},
   "outputs": [],
   "source": [
    "opt = Adam(learning_rate= 0.1)\n",
    "model2.compile(optimizer=opt,\n",
    "               loss = 'binary_crossentropy',\n",
    "               metrics = 'accuracy')"
   ]
  },
  {
   "cell_type": "code",
   "execution_count": 70,
   "id": "05e25bcf",
   "metadata": {},
   "outputs": [
    {
     "name": "stdout",
     "output_type": "stream",
     "text": [
      "Epoch 1/10\n",
      "586/586 [==============================] - 773s 1s/step - loss: 9912732.0000 - accuracy: 0.5042 - val_loss: 0.7150 - val_accuracy: 0.4974\n",
      "Epoch 2/10\n",
      "586/586 [==============================] - 668s 1s/step - loss: 0.7070 - accuracy: 0.4950 - val_loss: 0.6933 - val_accuracy: 0.4974\n",
      "Epoch 3/10\n",
      "586/586 [==============================] - 721s 1s/step - loss: 0.6962 - accuracy: 0.4981 - val_loss: 0.6934 - val_accuracy: 0.4974\n",
      "Epoch 4/10\n",
      "586/586 [==============================] - 697s 1s/step - loss: 0.6951 - accuracy: 0.4969 - val_loss: 0.6936 - val_accuracy: 0.4974\n",
      "Epoch 5/10\n",
      "586/586 [==============================] - 697s 1s/step - loss: 0.6953 - accuracy: 0.4936 - val_loss: 0.6931 - val_accuracy: 0.5026\n",
      "Epoch 6/10\n",
      "586/586 [==============================] - 612s 1s/step - loss: 0.6949 - accuracy: 0.5059 - val_loss: 0.6936 - val_accuracy: 0.5026\n",
      "Epoch 7/10\n",
      "586/586 [==============================] - 638s 1s/step - loss: 0.6948 - accuracy: 0.5037 - val_loss: 0.6938 - val_accuracy: 0.5026\n",
      "Epoch 8/10\n",
      "586/586 [==============================] - 718s 1s/step - loss: 0.6956 - accuracy: 0.4966 - val_loss: 0.7004 - val_accuracy: 0.4974\n",
      "Epoch 9/10\n",
      "586/586 [==============================] - 626s 1s/step - loss: 0.6950 - accuracy: 0.4964 - val_loss: 0.6950 - val_accuracy: 0.4974\n",
      "Epoch 10/10\n",
      "586/586 [==============================] - 735s 1s/step - loss: 0.6956 - accuracy: 0.4968 - val_loss: 0.6932 - val_accuracy: 0.4974\n"
     ]
    }
   ],
   "source": [
    "model2_summary = model2.fit(train_data_generator,\n",
    "                            shuffle=True,\n",
    "                            epochs = 10,\n",
    "                            validation_data=valid_data_generator)"
   ]
  },
  {
   "cell_type": "code",
   "execution_count": 32,
   "id": "bf6d47c3",
   "metadata": {},
   "outputs": [
    {
     "name": "stdout",
     "output_type": "stream",
     "text": [
      "Found 12500 validated image filenames.\n"
     ]
    }
   ],
   "source": [
    "test_gen = ImageDataGenerator(rescale=(1./255.))\n",
    "test_data_generator = test_gen.flow_from_dataframe(test_df,\n",
    "                                                   directory='./Data/test1/',\n",
    "                                                   x_col='filename',\n",
    "                                                   y_col=None,\n",
    "                                                   class_mode=None,\n",
    "                                                   target_size=(128,128),\n",
    "                                                   batch_size=32)"
   ]
  },
  {
   "cell_type": "code",
   "execution_count": 65,
   "id": "c5f74251",
   "metadata": {},
   "outputs": [],
   "source": [
    "pred1 = model1.predict(test_data_generator)"
   ]
  },
  {
   "cell_type": "code",
   "execution_count": 40,
   "id": "bdcff2c2",
   "metadata": {},
   "outputs": [
    {
     "data": {
      "text/plain": [
       "{'cat': 0, 'dog': 1}"
      ]
     },
     "execution_count": 40,
     "metadata": {},
     "output_type": "execute_result"
    }
   ],
   "source": [
    "train_data_generator.class_indices"
   ]
  },
  {
   "cell_type": "code",
   "execution_count": null,
   "id": "d37141f3",
   "metadata": {},
   "outputs": [],
   "source": [
    "pred2 = model2.predict(test_data_generator)"
   ]
  },
  {
   "cell_type": "code",
   "execution_count": 34,
   "id": "37ea25e6",
   "metadata": {},
   "outputs": [
    {
     "data": {
      "text/plain": [
       "array([[0.6681187],\n",
       "       [0.6681187],\n",
       "       [0.6681187],\n",
       "       ...,\n",
       "       [0.6681187],\n",
       "       [0.6681187],\n",
       "       [0.6681187]], dtype=float32)"
      ]
     },
     "execution_count": 34,
     "metadata": {},
     "output_type": "execute_result"
    }
   ],
   "source": [
    "pred1"
   ]
  },
  {
   "cell_type": "code",
   "execution_count": 66,
   "id": "c2d1253a",
   "metadata": {},
   "outputs": [],
   "source": [
    "test_labels = []\n",
    "for i in pred1:\n",
    "    if i>0.5:\n",
    "        test_labels.append('dog')\n",
    "    else:\n",
    "        test_labels.append('cat')"
   ]
  },
  {
   "cell_type": "code",
   "execution_count": 67,
   "id": "233431e2",
   "metadata": {},
   "outputs": [
    {
     "data": {
      "text/plain": [
       "array(['dog'], dtype='<U3')"
      ]
     },
     "execution_count": 67,
     "metadata": {},
     "output_type": "execute_result"
    }
   ],
   "source": [
    "np.unique(test_labels)"
   ]
  },
  {
   "cell_type": "code",
   "execution_count": 78,
   "id": "2e3eb371",
   "metadata": {},
   "outputs": [
    {
     "name": "stdout",
     "output_type": "stream",
     "text": [
      "Model: \"sequential_12\"\n",
      "_________________________________________________________________\n",
      "Layer (type)                 Output Shape              Param #   \n",
      "=================================================================\n",
      "block1_conv1 (Conv2D)        (None, 128, 128, 64)      1792      \n",
      "_________________________________________________________________\n",
      "block1_conv2 (Conv2D)        (None, 128, 128, 64)      36928     \n",
      "_________________________________________________________________\n",
      "block1_maxpool (MaxPooling2D (None, 64, 64, 64)        0         \n",
      "_________________________________________________________________\n",
      "block2_conv1 (Conv2D)        (None, 64, 64, 128)       73856     \n",
      "_________________________________________________________________\n",
      "block2_maxpool (MaxPooling2D (None, 32, 32, 128)       0         \n",
      "_________________________________________________________________\n",
      "block3_conv1 (Conv2D)        (None, 32, 32, 256)       295168    \n",
      "_________________________________________________________________\n",
      "block3_maxpool (MaxPooling2D (None, 16, 16, 256)       0         \n",
      "_________________________________________________________________\n",
      "block4_conv1 (Conv2D)        (None, 16, 16, 512)       1180160   \n",
      "_________________________________________________________________\n",
      "block4_maxpool (MaxPooling2D (None, 8, 8, 512)         0         \n",
      "_________________________________________________________________\n",
      "block5_conv1 (Conv2D)        (None, 8, 8, 512)         2359808   \n",
      "_________________________________________________________________\n",
      "block5_maxpool (MaxPooling2D (None, 4, 4, 512)         0         \n",
      "_________________________________________________________________\n",
      "flatten_12 (Flatten)         (None, 8192)              0         \n",
      "_________________________________________________________________\n",
      "dense_41 (Dense)             (None, 512)               4194816   \n",
      "_________________________________________________________________\n",
      "dense_42 (Dense)             (None, 512)               262656    \n",
      "_________________________________________________________________\n",
      "dense_43 (Dense)             (None, 1)                 513       \n",
      "=================================================================\n",
      "Total params: 8,405,697\n",
      "Trainable params: 8,405,697\n",
      "Non-trainable params: 0\n",
      "_________________________________________________________________\n"
     ]
    }
   ],
   "source": [
    "model = Sequential()\n",
    "\n",
    "model.add(Conv2D(64, (3,3), activation=\"relu\", padding=\"same\", kernel_initializer='he_uniform', name='block1_conv1', input_shape=(128, 128, 3)))\n",
    "model.add(Conv2D(64, (3,3), activation=\"relu\", padding=\"same\", kernel_initializer='he_uniform', name='block1_conv2'))\n",
    "model.add(MaxPooling2D(pool_size=(2,2), strides=(2,2), name='block1_maxpool'))\n",
    "\n",
    "model.add(Conv2D(128, (3,3), activation=\"relu\", padding=\"same\", kernel_initializer='he_uniform', name='block2_conv1'))\n",
    "model.add(MaxPooling2D(pool_size=(2,2), strides=(2,2), name='block2_maxpool'))\n",
    "\n",
    "model.add(Conv2D(256, (3,3), activation=\"relu\", padding=\"same\", kernel_initializer='he_uniform', name='block3_conv1'))\n",
    "model.add(MaxPooling2D(pool_size=(2,2), strides=(2,2), name='block3_maxpool'))\n",
    "\n",
    "model.add(Conv2D(512, (3,3), activation=\"relu\", padding=\"same\", kernel_initializer='he_uniform', name='block4_conv1'))\n",
    "model.add(MaxPooling2D(pool_size=(2,2), strides=(2,2), name='block4_maxpool'))\n",
    "\n",
    "model.add(Conv2D(512, (3,3), activation=\"relu\", padding=\"same\", kernel_initializer='he_uniform', name='block5_conv1'))\n",
    "model.add(MaxPooling2D(pool_size=(2,2), strides=(2,2), name='block5_maxpool'))\n",
    "\n",
    "model.add(Flatten())\n",
    "model.add(Dense(512, activation='relu'))\n",
    "model.add(Dense(512, activation='relu'))\n",
    "model.add(Dense(1, activation='sigmoid'))\n",
    "model.summary()"
   ]
  },
  {
   "cell_type": "code",
   "execution_count": 79,
   "id": "eee3a4bf",
   "metadata": {},
   "outputs": [],
   "source": [
    "opt = Adam(learning_rate= 0.1)\n",
    "model.compile(optimizer=opt,\n",
    "               loss = 'binary_crossentropy',\n",
    "               metrics = 'accuracy')"
   ]
  },
  {
   "cell_type": "code",
   "execution_count": null,
   "id": "40571f39",
   "metadata": {},
   "outputs": [
    {
     "name": "stdout",
     "output_type": "stream",
     "text": [
      "Epoch 1/10\n",
      "586/586 [==============================] - 1963s 3s/step - loss: 1965393152.0000 - accuracy: 0.4969 - val_loss: 3.1591 - val_accuracy: 0.5026\n",
      "Epoch 2/10\n",
      "352/586 [=================>............] - ETA: 9:55 - loss: 104.4308 - accuracy: 0.4989"
     ]
    }
   ],
   "source": [
    "model_summary = model.fit(train_data_generator,\n",
    "                            shuffle=True,\n",
    "                            epochs = 10,\n",
    "                            validation_data=valid_data_generator)"
   ]
  },
  {
   "cell_type": "code",
   "execution_count": null,
   "id": "1f16b1e6",
   "metadata": {},
   "outputs": [],
   "source": []
  }
 ],
 "metadata": {
  "kernelspec": {
   "display_name": "Python [conda env:.conda-deeplearning]",
   "language": "python",
   "name": "conda-env-.conda-deeplearning-py"
  },
  "language_info": {
   "codemirror_mode": {
    "name": "ipython",
    "version": 3
   },
   "file_extension": ".py",
   "mimetype": "text/x-python",
   "name": "python",
   "nbconvert_exporter": "python",
   "pygments_lexer": "ipython3",
   "version": "3.8.11"
  }
 },
 "nbformat": 4,
 "nbformat_minor": 5
}
